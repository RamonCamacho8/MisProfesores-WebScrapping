{
 "cells": [
  {
   "cell_type": "code",
   "execution_count": 2,
   "metadata": {},
   "outputs": [],
   "source": [
    "from FolderCreation import createOutputFolder\n",
    "from GetProfessors import getProfessors\n",
    "from GetComments import getCommentsFromProfessors\n",
    "from LimpiezaCorpus import limpiarCorpus\n",
    "from Translate import TraduccionClass\n",
    "import pandas as pd\n",
    "import os"
   ]
  },
  {
   "cell_type": "code",
   "execution_count": 7,
   "metadata": {},
   "outputs": [],
   "source": [
    "rootFolder : str = 'Universidades'\n",
    "fileName : str = 'UniversidadAutonomaNuevoLeon'\n",
    "saveFolder : str = 'Corpus'\n",
    "ext : str ='.txt'"
   ]
  },
  {
   "cell_type": "code",
   "execution_count": 5,
   "metadata": {},
   "outputs": [],
   "source": [
    "getProfessors()\n",
    "createOutputFolder()"
   ]
  },
  {
   "cell_type": "code",
   "execution_count": 16,
   "metadata": {},
   "outputs": [
    {
     "name": "stdout",
     "output_type": "stream",
     "text": [
      "UniversidadAutonomaNuevoLeon.txt\n",
      "File already exists:  Corpus\\UniversidadAutonomaNuevoLeon\\MP_UniversidadAutonomaNuevoLeon.csv\n",
      "Saving file:  Corpus\\UniversidadAutonomaNuevoLeon\\L_MP_UniversidadAutonomaNuevoLeon.csv\n",
      "Tamaño del Corpus:  383  filas.\n",
      "Tamaño del Corpus:  199  filas.\n",
      "Tamaño del Corpus:  198  filas.\n",
      "UniversidadNacionalAutonomaDeMexico.txt\n",
      "Saving file:  Corpus\\UniversidadNacionalAutonomaDeMexico\\MP_UniversidadNacionalAutonomaDeMexico.csv\n",
      "Saving file:  Corpus\\UniversidadNacionalAutonomaDeMexico\\L_MP_UniversidadNacionalAutonomaDeMexico.csv\n",
      "Tamaño del Corpus:  600  filas.\n",
      "Tamaño del Corpus:  409  filas.\n",
      "Tamaño del Corpus:  408  filas.\n",
      "UniversidadSonora.txt\n",
      "File already exists:  Corpus\\UniversidadSonora\\MP_UniversidadSonora.csv\n",
      "File already exists:  Corpus\\UniversidadSonora\\L_MP_UniversidadSonora.csv\n"
     ]
    }
   ],
   "source": [
    "\n",
    "\n",
    "for file in os.listdir(rootFolder):\n",
    "    if file.endswith(\".txt\"):\n",
    "        \n",
    "        filePath = os.path.join(rootFolder, file)\n",
    "        \n",
    "        with open(filePath, 'r') as file_:\n",
    "            profesores = file_.read().splitlines()\n",
    "        fileName = file.split('.')[0]\n",
    "        print(file)\n",
    "        #Save checkpoint#\n",
    "        prefix = 'MP_'\n",
    "        savePath = os.path.join(saveFolder,fileName, prefix + fileName + '.csv')\n",
    "        \n",
    "        if not os.path.exists(savePath):\n",
    "            print('Saving file: ', savePath)\n",
    "            df = getCommentsFromProfessors(profesores)\n",
    "            df.to_csv(savePath, index=False)\n",
    "        else:\n",
    "            print('File already exists: ', savePath)\n",
    "        df = pd.read_csv(savePath)\n",
    "        #################\n",
    "        \n",
    "        \n",
    "        #Save checkpoint#\n",
    "        prefix = 'L_' + prefix\n",
    "        savePath = os.path.join(saveFolder,fileName, prefix + fileName + '.csv')\n",
    "        \n",
    "        if not os.path.exists(savePath):\n",
    "            print('Saving file: ', savePath)\n",
    "            df = limpiarCorpus(df)\n",
    "            df.to_csv(savePath, index=False)\n",
    "        else:\n",
    "            print('File already exists: ', savePath)\n",
    "        df = pd.read_csv(savePath)\n",
    "        #################\n",
    "        \n",
    "        \n",
    "        \n",
    "        "
   ]
  },
  {
   "cell_type": "code",
   "execution_count": null,
   "metadata": {},
   "outputs": [],
   "source": [
    "df = getCommentsFromProfessors(profesores = profesores)\n",
    "df = limpiarCorpus(df)\n",
    "trad = TraduccionClass()\n",
    "df = trad.traduccion(df)\n",
    "ext = '.csv'\n",
    "\n",
    "df.to_csv('Corpus/'+subFolderName+'/Final_'+ subFolderName + ext, index=False)"
   ]
  },
  {
   "cell_type": "code",
   "execution_count": null,
   "metadata": {},
   "outputs": [
    {
     "name": "stdout",
     "output_type": "stream",
     "text": [
      "Using: cuda:0\n",
      "Traduciendo...\n"
     ]
    },
    {
     "data": {
      "application/vnd.jupyter.widget-view+json": {
       "model_id": "9e2a3ea69fb54a9ab8841c3de6b0eab9",
       "version_major": 2,
       "version_minor": 0
      },
      "text/plain": [
       "  0%|          | 0/454 [00:00<?, ?it/s]"
      ]
     },
     "metadata": {},
     "output_type": "display_data"
    }
   ],
   "source": [
    "#df = pd.read_csv('Corpus/UniversidadSonora/L_MP_UniversidadSonora.csv  ')\n"
   ]
  }
 ],
 "metadata": {
  "kernelspec": {
   "display_name": "Python 3",
   "language": "python",
   "name": "python3"
  },
  "language_info": {
   "codemirror_mode": {
    "name": "ipython",
    "version": 3
   },
   "file_extension": ".py",
   "mimetype": "text/x-python",
   "name": "python",
   "nbconvert_exporter": "python",
   "pygments_lexer": "ipython3",
   "version": "3.11.5"
  },
  "orig_nbformat": 4
 },
 "nbformat": 4,
 "nbformat_minor": 2
}
